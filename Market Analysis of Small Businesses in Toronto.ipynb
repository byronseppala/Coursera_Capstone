{
    "cells": [
        {
            "cell_type": "markdown",
            "metadata": {
                "collapsed": true
            },
            "source": "# Market Analysis of Small Businesses in Toronto"
        },
        {
            "cell_type": "markdown",
            "metadata": {},
            "source": "Contents:\n1. Introduction\n2. Business Problem\n3. Data "
        },
        {
            "cell_type": "markdown",
            "metadata": {},
            "source": "## Introduction"
        },
        {
            "cell_type": "markdown",
            "metadata": {},
            "source": "This report will leverage the skills and tools developed during this course to answer a business problem. It will build on previous analysis and show how it can be applied to real world problems. "
        },
        {
            "cell_type": "markdown",
            "metadata": {},
            "source": "## Business Problem"
        },
        {
            "cell_type": "markdown",
            "metadata": {},
            "source": "In this scenario, I have been contracted by an investor in Toronto. My client is interested in investing in the small business sector and needs guidance on the viability of various businesses. The client has been in contact with a group of startups in Toronto. I have been tasked with identifying which types of business are likely to succeed. That is, given a potential portfolio of investments, which ones are the most promising based on the venue composition of each neighborhood. I will answer this question by leveraging the tools and methods learned previously in this course. I will provide the client with the market analysis of the potential investments. The client will incorporate this analysis into the investment decision."
        },
        {
            "cell_type": "markdown",
            "metadata": {},
            "source": "## Data"
        },
        {
            "cell_type": "markdown",
            "metadata": {},
            "source": "In order to accomplish this analysis, I will use FourSquare data. I will develop a venue saturation metric grouping by neighborhood and identify gaps in venue offerings. For example, if there are two neighborhoods in Toronto that have a very similar venue composition (a similar number of coffee shops, nail salons, etc) but one has a low offering of one category of venue, that will be considered a gap in offering or a market opportunity. One possible way to find these market opportunities is to leave one type of venue out of the analysis, cluster the remainder by k-means clustering, then search within clusters to see if any neighborhoods have a notably low offering of the left out venue type. This will identify promissing locations for various types of venues. The client can then compare these results with the investment opportunities and allocate capital accordingly.  "
        },
        {
            "cell_type": "code",
            "execution_count": null,
            "metadata": {},
            "outputs": [],
            "source": ""
        }
    ],
    "metadata": {
        "kernelspec": {
            "display_name": "Python 3.6",
            "language": "python",
            "name": "python3"
        },
        "language_info": {
            "codemirror_mode": {
                "name": "ipython",
                "version": 3
            },
            "file_extension": ".py",
            "mimetype": "text/x-python",
            "name": "python",
            "nbconvert_exporter": "python",
            "pygments_lexer": "ipython3",
            "version": "3.6.9"
        }
    },
    "nbformat": 4,
    "nbformat_minor": 1
}